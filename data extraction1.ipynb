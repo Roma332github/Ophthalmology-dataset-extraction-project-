{
  "nbformat": 4,
  "nbformat_minor": 0,
  "metadata": {
    "colab": {
      "provenance": []
    },
    "kernelspec": {
      "name": "python3",
      "display_name": "Python 3"
    },
    "language_info": {
      "name": "python"
    }
  },
  "cells": [
    {
      "cell_type": "code",
      "source": [
        "import requests\n",
        "import time\n",
        "import csv\n",
        "from bs4 import BeautifulSoup\n",
        "from requests.exceptions import RequestException\n",
        "\n",
        "def fetch_page(url):\n",
        "    headers = {\n",
        "        \"User-Agent\": \"Mozilla/5.0 (Windows NT 10.0; Win64; x64) AppleWebKit/537.36 (KHTML, like Gecko) Chrome/58.0.3029.110 Safari/537.3\"\n",
        "    }\n",
        "    try:\n",
        "        response = requests.get(url, headers=headers)\n",
        "        response.raise_for_status()\n",
        "        return response\n",
        "    except RequestException as e:\n",
        "        print(f\"Request failed: {e}\")\n",
        "        return None\n",
        "\n",
        "def parse_ophthalmology_data(soup):\n",
        "    # Example to extract ophthalmology data, customize based on actual page structure\n",
        "    data = []\n",
        "    # Use a more general selector to find the table\n",
        "    table = soup.find(\"table\")\n",
        "    if table:\n",
        "        table_rows = table.find_all(\"tr\")[1:]\n",
        "        for row in table_rows:\n",
        "            cols = row.find_all(\"td\")\n",
        "            if len(cols) >= 2:  # Ensure there are at least two columns\n",
        "                disease = cols[0].get_text(strip=True)\n",
        "                definition = cols[1].get_text(strip=True)\n",
        "                data.append((disease, definition))\n",
        "    else:\n",
        "        print(\"No table found on the page.\")\n",
        "    return data\n",
        "\n",
        "def save_to_csv(data, filename):\n",
        "    with open(filename, mode='w', newline='', encoding='utf-8') as file:\n",
        "        writer = csv.writer(file)\n",
        "        writer.writerow([\"Disease\", \"Definition\"])\n",
        "        writer.writerows(data)\n",
        "\n",
        "def main():\n",
        "    url = \"https://www.ncbi.nlm.nih.gov/pmc/articles/PMC6248173/\"  # Update URL as per the actual website\n",
        "    page = fetch_page(url)\n",
        "    if page:\n",
        "        soup = BeautifulSoup(page.content, \"html.parser\")\n",
        "        data = parse_ophthalmology_data(soup)\n",
        "        save_to_csv(data, \"ophthalmology_data2.csv\")\n",
        "        print(\"Data extraction and saving completed.\")\n",
        "\n",
        "if __name__ == \"__main__\":\n",
        "    main()"
      ],
      "metadata": {
        "colab": {
          "base_uri": "https://localhost:8080/"
        },
        "id": "MU12NbDwcHVR",
        "outputId": "4d00b35c-3d9f-41c0-d455-47a03437f553"
      },
      "execution_count": 19,
      "outputs": [
        {
          "output_type": "stream",
          "name": "stdout",
          "text": [
            "Data extraction and saving completed.\n"
          ]
        }
      ]
    }
  ]
}